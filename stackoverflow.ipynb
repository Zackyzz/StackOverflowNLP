{
 "cells": [
  {
   "cell_type": "code",
   "execution_count": 2,
   "metadata": {},
   "outputs": [],
   "source": [
    "import pandas as pd"
   ]
  },
  {
   "cell_type": "code",
   "execution_count": 3,
   "metadata": {},
   "outputs": [
    {
     "name": "stdout",
     "output_type": "stream",
     "text": [
      "      Id  Score                                         Title  \\\n",
      "0  11060     18      How should I unit test a code-generator?   \n",
      "1  12870      9                      Arrays of Arrays in Java   \n",
      "2  16770     48                Haskell's algebraic data types   \n",
      "3  22980      8           Acts-as-readable Rails plugin Issue   \n",
      "4  23370      1  Notification of drop in drag-drop in Windows   \n",
      "\n",
      "                                                Body  \\\n",
      "0  <p>This is a difficult and open-ended question...   \n",
      "1  <p>This is a nasty one for me...  I'm a PHP gu...   \n",
      "2  <p>I'm trying to fully understand all of Haske...   \n",
      "3  <p>I'm using Intridea's <a href=\"http://www.in...   \n",
      "4  <p>My C# program has a list of files that can ...   \n",
      "\n",
      "                                                 Tag  \n",
      "0       c++ python unit-testing code-generation swig  \n",
      "1                                java php jsp tomcat  \n",
      "2  data-structures haskell types functional-progr...  \n",
      "3                         ruby-on-rails ruby plugins  \n",
      "4                          c# c++ windows winapi com  \n"
     ]
    }
   ],
   "source": [
    "df = pd.read_csv('g1.csv')\n",
    "print(df.head())"
   ]
  },
  {
   "cell_type": "code",
   "execution_count": 4,
   "metadata": {},
   "outputs": [
    {
     "name": "stdout",
     "output_type": "stream",
     "text": [
      "      Id  Score                                         Title  \\\n",
      "0  11060     18      How should I unit test a code-generator?   \n",
      "1  12870      9                      Arrays of Arrays in Java   \n",
      "2  16770     48                Haskell's algebraic data types   \n",
      "3  22980      8           Acts-as-readable Rails plugin Issue   \n",
      "4  23370      1  Notification of drop in drag-drop in Windows   \n",
      "\n",
      "                                                Body  \\\n",
      "0  <p>This is a difficult and open-ended question...   \n",
      "1  <p>This is a nasty one for me...  I'm a PHP gu...   \n",
      "2  <p>I'm trying to fully understand all of Haske...   \n",
      "3  <p>I'm using Intridea's <a href=\"http://www.in...   \n",
      "4  <p>My C# program has a list of files that can ...   \n",
      "\n",
      "                                                 Tag  \\\n",
      "0       c++ python unit-testing code-generation swig   \n",
      "1                                java php jsp tomcat   \n",
      "2  data-structures haskell types functional-progr...   \n",
      "3                         ruby-on-rails ruby plugins   \n",
      "4                          c# c++ windows winapi com   \n",
      "\n",
      "                                            Question  \n",
      "0  How should I unit test a code-generator? <p>Th...  \n",
      "1  Arrays of Arrays in Java <p>This is a nasty on...  \n",
      "2  Haskell's algebraic data types <p>I'm trying t...  \n",
      "3  Acts-as-readable Rails plugin Issue <p>I'm usi...  \n",
      "4  Notification of drop in drag-drop in Windows <...  \n"
     ]
    }
   ],
   "source": [
    "df['Question']=df['Title']+' '+df['Body']\n",
    "print(df.head())"
   ]
  },
  {
   "cell_type": "code",
   "execution_count": 5,
   "metadata": {},
   "outputs": [
    {
     "name": "stdout",
     "output_type": "stream",
     "text": [
      "                                                 Tag  \\\n",
      "0       c++ python unit-testing code-generation swig   \n",
      "1                                java php jsp tomcat   \n",
      "2  data-structures haskell types functional-progr...   \n",
      "3                         ruby-on-rails ruby plugins   \n",
      "4                          c# c++ windows winapi com   \n",
      "\n",
      "                                            Question  \n",
      "0  How should I unit test a code-generator? <p>Th...  \n",
      "1  Arrays of Arrays in Java <p>This is a nasty on...  \n",
      "2  Haskell's algebraic data types <p>I'm trying t...  \n",
      "3  Acts-as-readable Rails plugin Issue <p>I'm usi...  \n",
      "4  Notification of drop in drag-drop in Windows <...  \n"
     ]
    }
   ],
   "source": [
    "df.drop(['Id','Score','Body','Title'], inplace=True, axis=1)\n",
    "print(df.head())"
   ]
  },
  {
   "cell_type": "code",
   "execution_count": 6,
   "metadata": {},
   "outputs": [
    {
     "name": "stdout",
     "output_type": "stream",
     "text": [
      "                                                 Tag  \\\n",
      "0       c++ python unit-testing code-generation swig   \n",
      "1                                java php jsp tomcat   \n",
      "2  data-structures haskell types functional-progr...   \n",
      "3                         ruby-on-rails ruby plugins   \n",
      "4                          c# c++ windows winapi com   \n",
      "\n",
      "                                            Question  \n",
      "0  How should I unit test a code-generator? This ...  \n",
      "1  Arrays of Arrays in Java This is a nasty one f...  \n",
      "2  Haskell's algebraic data types I'm trying to f...  \n",
      "3  Acts-as-readable Rails plugin Issue I'm using ...  \n",
      "4  Notification of drop in drag-drop in Windows M...  \n"
     ]
    }
   ],
   "source": [
    "from bs4 import BeautifulSoup\n",
    "df['Question']=df['Question'].apply(lambda x: BeautifulSoup(x, 'html.parser').get_text())\n",
    "print(df.head())"
   ]
  },
  {
   "cell_type": "code",
   "execution_count": 7,
   "metadata": {},
   "outputs": [
    {
     "name": "stdout",
     "output_type": "stream",
     "text": [
      "9\n"
     ]
    }
   ],
   "source": [
    "tags=['javascript','python','java','c#','c++','php','swift','ruby','scala']\n",
    "print(len(tags))"
   ]
  },
  {
   "cell_type": "code",
   "execution_count": 8,
   "metadata": {},
   "outputs": [
    {
     "data": {
      "text/html": [
       "<div>\n",
       "<style scoped>\n",
       "    .dataframe tbody tr th:only-of-type {\n",
       "        vertical-align: middle;\n",
       "    }\n",
       "\n",
       "    .dataframe tbody tr th {\n",
       "        vertical-align: top;\n",
       "    }\n",
       "\n",
       "    .dataframe thead th {\n",
       "        text-align: right;\n",
       "    }\n",
       "</style>\n",
       "<table border=\"1\" class=\"dataframe\">\n",
       "  <thead>\n",
       "    <tr style=\"text-align: right;\">\n",
       "      <th></th>\n",
       "      <th>Tag</th>\n",
       "      <th>Question</th>\n",
       "    </tr>\n",
       "  </thead>\n",
       "  <tbody>\n",
       "    <tr>\n",
       "      <th>0</th>\n",
       "      <td>[c++, python, unit-testing, code-generation, s...</td>\n",
       "      <td>How should I unit test a code-generator? This ...</td>\n",
       "    </tr>\n",
       "    <tr>\n",
       "      <th>1</th>\n",
       "      <td>[java, php, jsp, tomcat]</td>\n",
       "      <td>Arrays of Arrays in Java This is a nasty one f...</td>\n",
       "    </tr>\n",
       "    <tr>\n",
       "      <th>2</th>\n",
       "      <td>[data-structures, haskell, types, functional-p...</td>\n",
       "      <td>Haskell's algebraic data types I'm trying to f...</td>\n",
       "    </tr>\n",
       "    <tr>\n",
       "      <th>3</th>\n",
       "      <td>[ruby-on-rails, ruby, plugins]</td>\n",
       "      <td>Acts-as-readable Rails plugin Issue I'm using ...</td>\n",
       "    </tr>\n",
       "    <tr>\n",
       "      <th>4</th>\n",
       "      <td>[c#, c++, windows, winapi, com]</td>\n",
       "      <td>Notification of drop in drag-drop in Windows M...</td>\n",
       "    </tr>\n",
       "  </tbody>\n",
       "</table>\n",
       "</div>"
      ],
      "text/plain": [
       "                                                 Tag  \\\n",
       "0  [c++, python, unit-testing, code-generation, s...   \n",
       "1                           [java, php, jsp, tomcat]   \n",
       "2  [data-structures, haskell, types, functional-p...   \n",
       "3                     [ruby-on-rails, ruby, plugins]   \n",
       "4                    [c#, c++, windows, winapi, com]   \n",
       "\n",
       "                                            Question  \n",
       "0  How should I unit test a code-generator? This ...  \n",
       "1  Arrays of Arrays in Java This is a nasty one f...  \n",
       "2  Haskell's algebraic data types I'm trying to f...  \n",
       "3  Acts-as-readable Rails plugin Issue I'm using ...  \n",
       "4  Notification of drop in drag-drop in Windows M...  "
      ]
     },
     "execution_count": 8,
     "metadata": {},
     "output_type": "execute_result"
    }
   ],
   "source": [
    "df['Tag']=df['Tag'].apply(lambda x: x.split())\n",
    "df.head()"
   ]
  },
  {
   "cell_type": "code",
   "execution_count": 9,
   "metadata": {},
   "outputs": [
    {
     "data": {
      "text/html": [
       "<div>\n",
       "<style scoped>\n",
       "    .dataframe tbody tr th:only-of-type {\n",
       "        vertical-align: middle;\n",
       "    }\n",
       "\n",
       "    .dataframe tbody tr th {\n",
       "        vertical-align: top;\n",
       "    }\n",
       "\n",
       "    .dataframe thead th {\n",
       "        text-align: right;\n",
       "    }\n",
       "</style>\n",
       "<table border=\"1\" class=\"dataframe\">\n",
       "  <thead>\n",
       "    <tr style=\"text-align: right;\">\n",
       "      <th></th>\n",
       "      <th>Tag</th>\n",
       "      <th>Question</th>\n",
       "    </tr>\n",
       "  </thead>\n",
       "  <tbody>\n",
       "    <tr>\n",
       "      <th>0</th>\n",
       "      <td>[c++, python]</td>\n",
       "      <td>How should I unit test a code-generator? This ...</td>\n",
       "    </tr>\n",
       "    <tr>\n",
       "      <th>1</th>\n",
       "      <td>[java, php]</td>\n",
       "      <td>Arrays of Arrays in Java This is a nasty one f...</td>\n",
       "    </tr>\n",
       "    <tr>\n",
       "      <th>2</th>\n",
       "      <td>[]</td>\n",
       "      <td>Haskell's algebraic data types I'm trying to f...</td>\n",
       "    </tr>\n",
       "    <tr>\n",
       "      <th>3</th>\n",
       "      <td>[ruby]</td>\n",
       "      <td>Acts-as-readable Rails plugin Issue I'm using ...</td>\n",
       "    </tr>\n",
       "    <tr>\n",
       "      <th>4</th>\n",
       "      <td>[c#, c++]</td>\n",
       "      <td>Notification of drop in drag-drop in Windows M...</td>\n",
       "    </tr>\n",
       "  </tbody>\n",
       "</table>\n",
       "</div>"
      ],
      "text/plain": [
       "             Tag                                           Question\n",
       "0  [c++, python]  How should I unit test a code-generator? This ...\n",
       "1    [java, php]  Arrays of Arrays in Java This is a nasty one f...\n",
       "2             []  Haskell's algebraic data types I'm trying to f...\n",
       "3         [ruby]  Acts-as-readable Rails plugin Issue I'm using ...\n",
       "4      [c#, c++]  Notification of drop in drag-drop in Windows M..."
      ]
     },
     "execution_count": 9,
     "metadata": {},
     "output_type": "execute_result"
    }
   ],
   "source": [
    "df['Tag']=df['Tag'].apply(lambda x: [element for element in x if element in tags])\n",
    "df.head()"
   ]
  },
  {
   "cell_type": "code",
   "execution_count": 10,
   "metadata": {},
   "outputs": [
    {
     "data": {
      "text/plain": [
       "17060"
      ]
     },
     "execution_count": 10,
     "metadata": {},
     "output_type": "execute_result"
    }
   ],
   "source": [
    "len(df)\n",
    "df.dropna(inplace=True)\n",
    "len(df)"
   ]
  },
  {
   "cell_type": "code",
   "execution_count": 11,
   "metadata": {},
   "outputs": [
    {
     "data": {
      "text/html": [
       "<div>\n",
       "<style scoped>\n",
       "    .dataframe tbody tr th:only-of-type {\n",
       "        vertical-align: middle;\n",
       "    }\n",
       "\n",
       "    .dataframe tbody tr th {\n",
       "        vertical-align: top;\n",
       "    }\n",
       "\n",
       "    .dataframe thead th {\n",
       "        text-align: right;\n",
       "    }\n",
       "</style>\n",
       "<table border=\"1\" class=\"dataframe\">\n",
       "  <thead>\n",
       "    <tr style=\"text-align: right;\">\n",
       "      <th></th>\n",
       "      <th>Tag</th>\n",
       "      <th>Question</th>\n",
       "    </tr>\n",
       "  </thead>\n",
       "  <tbody>\n",
       "    <tr>\n",
       "      <th>0</th>\n",
       "      <td>[c++, python]</td>\n",
       "      <td>How should I unit test a code-generator? This ...</td>\n",
       "    </tr>\n",
       "    <tr>\n",
       "      <th>1</th>\n",
       "      <td>[java, php]</td>\n",
       "      <td>Arrays of Arrays in Java This is a nasty one f...</td>\n",
       "    </tr>\n",
       "    <tr>\n",
       "      <th>2</th>\n",
       "      <td>[]</td>\n",
       "      <td>Haskell's algebraic data types I'm trying to f...</td>\n",
       "    </tr>\n",
       "    <tr>\n",
       "      <th>3</th>\n",
       "      <td>[ruby]</td>\n",
       "      <td>Acts-as-readable Rails plugin Issue I'm using ...</td>\n",
       "    </tr>\n",
       "    <tr>\n",
       "      <th>4</th>\n",
       "      <td>[c#, c++]</td>\n",
       "      <td>Notification of drop in drag-drop in Windows M...</td>\n",
       "    </tr>\n",
       "  </tbody>\n",
       "</table>\n",
       "</div>"
      ],
      "text/plain": [
       "             Tag                                           Question\n",
       "0  [c++, python]  How should I unit test a code-generator? This ...\n",
       "1    [java, php]  Arrays of Arrays in Java This is a nasty one f...\n",
       "2             []  Haskell's algebraic data types I'm trying to f...\n",
       "3         [ruby]  Acts-as-readable Rails plugin Issue I'm using ...\n",
       "4      [c#, c++]  Notification of drop in drag-drop in Windows M..."
      ]
     },
     "execution_count": 11,
     "metadata": {},
     "output_type": "execute_result"
    }
   ],
   "source": [
    "df.head()"
   ]
  },
  {
   "cell_type": "code",
   "execution_count": 12,
   "metadata": {},
   "outputs": [
    {
     "name": "stdout",
     "output_type": "stream",
     "text": [
      "          Tag                                           Question\n",
      "0  c++ python  How should I unit test a code-generator? This ...\n",
      "1    java php  Arrays of Arrays in Java This is a nasty one f...\n",
      "2              Haskell's algebraic data types I'm trying to f...\n",
      "3        ruby  Acts-as-readable Rails plugin Issue I'm using ...\n",
      "4      c# c++  Notification of drop in drag-drop in Windows M...\n"
     ]
    }
   ],
   "source": [
    "df['Tag']=df['Tag'].apply(lambda x: ' '.join(str(elem) for elem in x))\n",
    "print(df.head())"
   ]
  },
  {
   "cell_type": "code",
   "execution_count": 13,
   "metadata": {},
   "outputs": [
    {
     "name": "stdout",
     "output_type": "stream",
     "text": [
      "2197\n"
     ]
    }
   ],
   "source": [
    "blanks = []\n",
    "\n",
    "for index, row in df.iterrows():\n",
    "    if not any(c.isalpha() for c in row['Tag']):\n",
    "        blanks.append(index)\n",
    "        \n",
    "print(len(blanks))"
   ]
  },
  {
   "cell_type": "code",
   "execution_count": 14,
   "metadata": {},
   "outputs": [
    {
     "data": {
      "text/plain": [
       "14863"
      ]
     },
     "execution_count": 14,
     "metadata": {},
     "output_type": "execute_result"
    }
   ],
   "source": [
    "df.drop(blanks, inplace=True)\n",
    "\n",
    "len(df)"
   ]
  },
  {
   "cell_type": "code",
   "execution_count": 15,
   "metadata": {},
   "outputs": [
    {
     "data": {
      "text/html": [
       "<div>\n",
       "<style scoped>\n",
       "    .dataframe tbody tr th:only-of-type {\n",
       "        vertical-align: middle;\n",
       "    }\n",
       "\n",
       "    .dataframe tbody tr th {\n",
       "        vertical-align: top;\n",
       "    }\n",
       "\n",
       "    .dataframe thead th {\n",
       "        text-align: right;\n",
       "    }\n",
       "</style>\n",
       "<table border=\"1\" class=\"dataframe\">\n",
       "  <thead>\n",
       "    <tr style=\"text-align: right;\">\n",
       "      <th></th>\n",
       "      <th>Tag</th>\n",
       "      <th>Question</th>\n",
       "    </tr>\n",
       "  </thead>\n",
       "  <tbody>\n",
       "    <tr>\n",
       "      <th>0</th>\n",
       "      <td>c++ python</td>\n",
       "      <td>How should I unit test a code-generator? This ...</td>\n",
       "    </tr>\n",
       "    <tr>\n",
       "      <th>1</th>\n",
       "      <td>java php</td>\n",
       "      <td>Arrays of Arrays in Java This is a nasty one f...</td>\n",
       "    </tr>\n",
       "    <tr>\n",
       "      <th>3</th>\n",
       "      <td>ruby</td>\n",
       "      <td>Acts-as-readable Rails plugin Issue I'm using ...</td>\n",
       "    </tr>\n",
       "    <tr>\n",
       "      <th>4</th>\n",
       "      <td>c# c++</td>\n",
       "      <td>Notification of drop in drag-drop in Windows M...</td>\n",
       "    </tr>\n",
       "    <tr>\n",
       "      <th>5</th>\n",
       "      <td>javascript</td>\n",
       "      <td>Suppress NTLM dialog box after unauthorized re...</td>\n",
       "    </tr>\n",
       "  </tbody>\n",
       "</table>\n",
       "</div>"
      ],
      "text/plain": [
       "          Tag                                           Question\n",
       "0  c++ python  How should I unit test a code-generator? This ...\n",
       "1    java php  Arrays of Arrays in Java This is a nasty one f...\n",
       "3        ruby  Acts-as-readable Rails plugin Issue I'm using ...\n",
       "4      c# c++  Notification of drop in drag-drop in Windows M...\n",
       "5  javascript  Suppress NTLM dialog box after unauthorized re..."
      ]
     },
     "execution_count": 15,
     "metadata": {},
     "output_type": "execute_result"
    }
   ],
   "source": [
    "df.head()"
   ]
  },
  {
   "cell_type": "code",
   "execution_count": 16,
   "metadata": {},
   "outputs": [],
   "source": [
    "df['Tag']=df['Tag'].apply(lambda x: x.split()[0])"
   ]
  },
  {
   "cell_type": "code",
   "execution_count": 17,
   "metadata": {},
   "outputs": [
    {
     "name": "stdout",
     "output_type": "stream",
     "text": [
      "          Tag                                           Question\n",
      "0         c++  How should I unit test a code-generator? This ...\n",
      "1        java  Arrays of Arrays in Java This is a nasty one f...\n",
      "3        ruby  Acts-as-readable Rails plugin Issue I'm using ...\n",
      "4          c#  Notification of drop in drag-drop in Windows M...\n",
      "5  javascript  Suppress NTLM dialog box after unauthorized re...\n"
     ]
    },
    {
     "data": {
      "text/plain": [
       "ruby          3497\n",
       "swift         2977\n",
       "javascript    2613\n",
       "java          1623\n",
       "c#            1349\n",
       "php           1342\n",
       "python         558\n",
       "c++            477\n",
       "scala          427\n",
       "Name: Tag, dtype: int64"
      ]
     },
     "execution_count": 17,
     "metadata": {},
     "output_type": "execute_result"
    }
   ],
   "source": [
    "print(df.head())\n",
    "df['Tag'].value_counts()"
   ]
  },
  {
   "cell_type": "code",
   "execution_count": 18,
   "metadata": {},
   "outputs": [],
   "source": [
    "from nltk.stem.snowball import SnowballStemmer, PorterStemmer\n",
    "\n",
    "s_stemmer = SnowballStemmer(language='english')\n",
    "p_stemmer = PorterStemmer()"
   ]
  },
  {
   "cell_type": "code",
   "execution_count": 19,
   "metadata": {},
   "outputs": [],
   "source": [
    "def stem_text(text,stemmer = s_stemmer):\n",
    "    return ' '.join([stemmer.stem(w) for w in text.rstrip().split()])\n"
   ]
  },
  {
   "cell_type": "code",
   "execution_count": 20,
   "metadata": {},
   "outputs": [],
   "source": [
    "df['Question']=df['Question'].apply(lambda x: stem_text(x))"
   ]
  },
  {
   "cell_type": "code",
   "execution_count": 21,
   "metadata": {},
   "outputs": [],
   "source": [
    "X=df['Question']\n",
    "y=df['Tag']"
   ]
  },
  {
   "cell_type": "code",
   "execution_count": 22,
   "metadata": {},
   "outputs": [],
   "source": [
    "from sklearn.model_selection import train_test_split\n",
    "\n",
    "X_train, X_test, y_train, y_test = train_test_split(X, y, test_size=0.3)"
   ]
  },
  {
   "cell_type": "code",
   "execution_count": 23,
   "metadata": {},
   "outputs": [],
   "source": [
    "#new_X= vectorizer.fit_transform(X)"
   ]
  },
  {
   "cell_type": "code",
   "execution_count": 24,
   "metadata": {},
   "outputs": [
    {
     "data": {
      "text/plain": [
       "3"
      ]
     },
     "execution_count": 24,
     "metadata": {},
     "output_type": "execute_result"
    }
   ],
   "source": [
    "3#from sklearn.feature_selection import mutual_info_classif as MIC\n",
    "#mi_score = MIC(new_X,y)\n",
    "#print(mi_score)"
   ]
  },
  {
   "cell_type": "code",
   "execution_count": 25,
   "metadata": {},
   "outputs": [],
   "source": [
    "#from sklearn.feature_selection import SelectPercentile as SP\n",
    "#selector = SP(percentile=10)\n",
    "#selector.fit(new_X,y)\n",
    "#X_4 = selector.transform(new_X)\n",
    "#X_train_4,X_test_4,y_train,y_test = train_test_split(\n",
    "#    X_4,y\n",
    "#    ,random_state=0\n",
    "#    ,stratify=y\n",
    "#)"
   ]
  },
  {
   "cell_type": "code",
   "execution_count": 26,
   "metadata": {},
   "outputs": [],
   "source": [
    "with open('sw.txt') as f:\n",
    "    sw = [line.rstrip() for line in f]"
   ]
  },
  {
   "cell_type": "code",
   "execution_count": 27,
   "metadata": {},
   "outputs": [
    {
     "name": "stderr",
     "output_type": "stream",
     "text": [
      "C:\\Users\\zburghelea\\Anaconda3\\lib\\site-packages\\sklearn\\feature_extraction\\text.py:388: UserWarning: Your stop_words may be inconsistent with your preprocessing. Tokenizing the stop words generated tokens ['ain', 'al', 'couldn', 'daren', 'didn', 'doesn', 'don', 'hadn', 'hasn', 'haven', 'isn', 'll', 'mayn', 'mightn', 'mon', 'mustn', 'needn', 'oughtn', 'shan', 'shouldn', 've', 'wasn', 'weren', 'won', 'wouldn'] not in stop_words.\n",
      "  warnings.warn('Your stop_words may be inconsistent with '\n"
     ]
    },
    {
     "data": {
      "text/plain": [
       "Pipeline(steps=[('tfidf',\n",
       "                 TfidfVectorizer(stop_words=['usa', \"who'd\", 'whilst',\n",
       "                                             'whichever', \"what've\", 'versus',\n",
       "                                             'upwards', 'undoing', 'underneath',\n",
       "                                             'till', 'thirty', \"there're\",\n",
       "                                             \"there'd\", 'someday', 'round',\n",
       "                                             'provided', \"oughtn't\", 'opposite',\n",
       "                                             \"one's\", 'notwithstanding',\n",
       "                                             'no-one', 'neverless', 'neverf',\n",
       "                                             \"needn't\", 'minus', 'mine',\n",
       "                                             \"mightn't\", \"mayn't\", 'lower',\n",
       "                                             'low', ...])),\n",
       "                ('clf', LinearSVC())])"
      ]
     },
     "execution_count": 27,
     "metadata": {},
     "output_type": "execute_result"
    }
   ],
   "source": [
    "from sklearn.pipeline import Pipeline\n",
    "from sklearn.feature_extraction.text import TfidfVectorizer\n",
    "from sklearn.svm import LinearSVC\n",
    "\n",
    "text_clf = Pipeline([('tfidf', TfidfVectorizer(stop_words=sw)),\n",
    "                     ('clf', LinearSVC()),\n",
    "])\n",
    "\n",
    "text_clf.fit(X_train, y_train)  "
   ]
  },
  {
   "cell_type": "code",
   "execution_count": 28,
   "metadata": {},
   "outputs": [],
   "source": [
    "predictions = text_clf.predict(X_test)"
   ]
  },
  {
   "cell_type": "code",
   "execution_count": 34,
   "metadata": {},
   "outputs": [
    {
     "name": "stdout",
     "output_type": "stream",
     "text": [
      "how should i unit test a code-generator? this is a difficult and open-end question i know, but i thought i'd throw it to the floor and see if anyon had ani interest suggestions. i have develop a code-gener that take our python interfac to our c++ code (gener via swig) and generat code need to expos this as webservices. when i develop this code i did it use tdd, but i'v found my test to be brittl as hell. becaus each test essenti want to verifi that for a given bit of input code (which happen to be a c++ header) i'd get a given bit of output code i wrote a small engin that read test definit from xml input file and generat test case from these expectations. the problem is i dread go in to modifi the code at all. that and the fact that the unit test themselv are a: complex, and b: brittle. so i'm tri to think of altern approach to this problem, and it strike me i'm perhap tackl it the wrong way. mayb i need to focus more on the outcome, ie: doe the code i generat actual run and do what i want it to, rather than, doe the code look the way i want it to. has anyon got ani experi of someth similar to this they would care to share?\n"
     ]
    }
   ],
   "source": [
    "print(X_train[0])"
   ]
  },
  {
   "cell_type": "code",
   "execution_count": 30,
   "metadata": {},
   "outputs": [
    {
     "name": "stdout",
     "output_type": "stream",
     "text": [
      "0.7465799506615833\n",
      "              precision    recall  f1-score   support\n",
      "\n",
      "          c#       0.62      0.53      0.57       413\n",
      "         c++       0.60      0.52      0.56       127\n",
      "        java       0.69      0.68      0.68       474\n",
      "  javascript       0.61      0.64      0.63       817\n",
      "         php       0.47      0.45      0.45       391\n",
      "      python       0.61      0.53      0.57       167\n",
      "        ruby       0.89      0.93      0.91      1056\n",
      "       scala       0.76      0.67      0.71       136\n",
      "       swift       0.93      0.98      0.95       878\n",
      "\n",
      "    accuracy                           0.75      4459\n",
      "   macro avg       0.69      0.66      0.67      4459\n",
      "weighted avg       0.74      0.75      0.74      4459\n",
      "\n"
     ]
    }
   ],
   "source": [
    "from sklearn import metrics\n",
    "print(metrics.accuracy_score(y_test,predictions))\n",
    "print(metrics.classification_report(y_test,predictions))"
   ]
  },
  {
   "cell_type": "code",
   "execution_count": 31,
   "metadata": {},
   "outputs": [],
   "source": [
    "my_question = \"I want to learn python because it's widely used in the Machine Learning field, it got a lot of nice libraries such as pandas, nltk, spacy, scipy, sklearn and so on. Although it's not as fast as C, python got a decent speed due to the optimized implementation of the algorithms.\""
   ]
  },
  {
   "cell_type": "code",
   "execution_count": 32,
   "metadata": {},
   "outputs": [
    {
     "data": {
      "text/plain": [
       "array(['python'], dtype=object)"
      ]
     },
     "execution_count": 32,
     "metadata": {},
     "output_type": "execute_result"
    }
   ],
   "source": [
    "text_clf.predict([my_question])"
   ]
  }
 ],
 "metadata": {
  "interpreter": {
   "hash": "06d599512d8c6dae3b784bbbb35eca4537e53918c8a808ce11d2cc46cc440605"
  },
  "kernelspec": {
   "display_name": "Python 3.9.7 64-bit ('base': conda)",
   "language": "python",
   "name": "python3"
  },
  "language_info": {
   "codemirror_mode": {
    "name": "ipython",
    "version": 3
   },
   "file_extension": ".py",
   "mimetype": "text/x-python",
   "name": "python",
   "nbconvert_exporter": "python",
   "pygments_lexer": "ipython3",
   "version": "3.9.7"
  },
  "orig_nbformat": 4
 },
 "nbformat": 4,
 "nbformat_minor": 2
}
