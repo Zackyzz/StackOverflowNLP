{
 "cells": [
  {
   "cell_type": "code",
   "execution_count": 1,
   "metadata": {},
   "outputs": [],
   "source": [
    "with open('g0ftags.txt') as f:\n",
    "    data=f.read().splitlines()"
   ]
  },
  {
   "cell_type": "code",
   "execution_count": 2,
   "metadata": {},
   "outputs": [
    {
     "data": {
      "text/plain": [
       "3203"
      ]
     },
     "execution_count": 2,
     "metadata": {},
     "output_type": "execute_result"
    }
   ],
   "source": [
    "dimension = int(data[0])\n",
    "dimension"
   ]
  },
  {
   "cell_type": "code",
   "execution_count": 3,
   "metadata": {},
   "outputs": [],
   "source": [
    "splitted = list(map(lambda x: x.split('#',1), data[1:]))"
   ]
  },
  {
   "cell_type": "code",
   "execution_count": 4,
   "metadata": {},
   "outputs": [],
   "source": [
    "y = list(map(lambda x: x[1].split()[0], splitted))"
   ]
  },
  {
   "cell_type": "code",
   "execution_count": 5,
   "metadata": {},
   "outputs": [],
   "source": [
    "x_prime = list(map(lambda x: x[0].split(),splitted))\n",
    "\n",
    "temp=[0]*dimension\n",
    "x=[]\n",
    "for i in x_prime:\n",
    "    for j in i:\n",
    "        splix=j.split(':')\n",
    "        temp[int(splix[0])]=int(splix[1])\n",
    "    x.append([q / sum(temp) for q in temp])\n"
   ]
  },
  {
   "cell_type": "code",
   "execution_count": null,
   "metadata": {},
   "outputs": [],
   "source": [
    "from sklearn.model_selection import train_test_split\n",
    "X_train, X_test, y_train, y_test = train_test_split(x, y, test_size=0.3)\n"
   ]
  },
  {
   "cell_type": "code",
   "execution_count": null,
   "metadata": {},
   "outputs": [
    {
     "data": {
      "text/plain": [
       "SVC(C=5, gamma=1)"
      ]
     },
     "execution_count": 7,
     "metadata": {},
     "output_type": "execute_result"
    }
   ],
   "source": [
    "\n",
    "from sklearn import svm\n",
    "svc = svm.SVC(kernel='rbf', C=5, gamma=1)\n",
    "svc.fit(X_train, y_train)"
   ]
  },
  {
   "cell_type": "code",
   "execution_count": null,
   "metadata": {},
   "outputs": [],
   "source": [
    "predictions=svc.predict(X_test)"
   ]
  },
  {
   "cell_type": "code",
   "execution_count": null,
   "metadata": {},
   "outputs": [
    {
     "name": "stdout",
     "output_type": "stream",
     "text": [
      "0.1855123674911661\n",
      "              precision    recall  f1-score   support\n",
      "\n",
      "          c#       0.13      0.07      0.09       234\n",
      "         c++       0.03      0.01      0.02        89\n",
      "        java       0.12      0.08      0.10       284\n",
      "  javascript       0.15      0.13      0.14       313\n",
      "         php       0.03      0.01      0.02       203\n",
      "      python       0.10      0.02      0.03       100\n",
      "        ruby       0.25      0.42      0.31       530\n",
      "       scala       0.00      0.00      0.00        82\n",
      "       swift       0.18      0.26      0.22       429\n",
      "\n",
      "    accuracy                           0.19      2264\n",
      "   macro avg       0.11      0.11      0.10      2264\n",
      "weighted avg       0.15      0.19      0.16      2264\n",
      "\n"
     ]
    }
   ],
   "source": [
    "from sklearn import metrics\n",
    "print(metrics.accuracy_score(y_test,predictions))\n",
    "print(metrics.classification_report(y_test,predictions))"
   ]
  },
  {
   "cell_type": "code",
   "execution_count": null,
   "metadata": {},
   "outputs": [
    {
     "data": {
      "text/plain": [
       "0.1855123674911661"
      ]
     },
     "execution_count": 10,
     "metadata": {},
     "output_type": "execute_result"
    }
   ],
   "source": [
    "sum=0\n",
    "for i,j in zip(predictions,y_test):\n",
    "    if i == j:\n",
    "        sum +=1\n",
    "\n",
    "sum / len(predictions)"
   ]
  }
 ],
 "metadata": {
  "interpreter": {
   "hash": "06d599512d8c6dae3b784bbbb35eca4537e53918c8a808ce11d2cc46cc440605"
  },
  "kernelspec": {
   "display_name": "Python 3.9.7 64-bit ('base': conda)",
   "language": "python",
   "name": "python3"
  },
  "language_info": {
   "codemirror_mode": {
    "name": "ipython",
    "version": 3
   },
   "file_extension": ".py",
   "mimetype": "text/x-python",
   "name": "python",
   "nbconvert_exporter": "python",
   "pygments_lexer": "ipython3",
   "version": "3.9.7"
  },
  "orig_nbformat": 4
 },
 "nbformat": 4,
 "nbformat_minor": 2
}
